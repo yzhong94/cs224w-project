{
 "cells": [
  {
   "cell_type": "markdown",
   "metadata": {},
   "source": [
    "# Describe Individual batch's network\n",
    "\n",
    "Definition of individual batch's network, looping through years: \n",
    "- Year i to i+1's campaign financial data\n",
    "- Year i+2 to i+3's bill co-authorship data\n",
    "\n",
    "For every term (finance + bill - one mode projection on to candidate):\n",
    "- Avg clustering coefficient\n",
    "- WCC size\n",
    "- SCC size\n",
    "- Max path length\n",
    "- Average node degree\n"
   ]
  },
  {
   "cell_type": "code",
   "execution_count": 4,
   "metadata": {},
   "outputs": [],
   "source": [
    "import snap\n",
    "import numpy as np\n",
    "import pandas as pd\n",
    "from itertools import permutations\n",
    "from matplotlib import pyplot as plt\n",
    "import random\n",
    "import glob\n",
    "\n",
    "CAM_YEAR = 1982\n",
    "TERM_YEAR = 1984\n",
    "TERM_START = 98 #1983-1984\n"
   ]
  },
  {
   "cell_type": "markdown",
   "metadata": {},
   "source": [
    "##Secion 1 - Load Candidate Attributes"
   ]
  },
  {
   "cell_type": "code",
   "execution_count": 16,
   "metadata": {},
   "outputs": [
    {
     "name": "stdout",
     "output_type": "stream",
     "text": [
      "     CAND_ID             CAND_NAME_x CAND_PTY_AFFILIATION  CAND_ELECTION_YR  \\\n",
      "2  H0AS00018  HUNKIN, ENI FA'AUAA JR                  IND              1980   \n",
      "3  H0AS00018  HUNKIN, ENI FA'AUAA JR                  IND              1980   \n",
      "4  H0AS00018  HUNKIN, ENI FA'AUAA JR                  IND              1980   \n",
      "5  H0AS00018  HUNKIN, ENI FA'AUAA JR                  IND              1980   \n",
      "6  H0AS00026         SUNIA, FOFO I F                  DEM              1982   \n",
      "\n",
      "  CAND_OFFICE_ST state_x  CAND_OFFICE    CAND_ST2  CAM_YEAR  \\\n",
      "2             AS       H            0   PAGO PAGO      1982   \n",
      "3             AS       H            0   PAGO PAGO      1982   \n",
      "4             AS       H            0   PAGO PAGO      1982   \n",
      "5             AS       H            0   PAGO PAGO      1982   \n",
      "6             AS       H            0  WASHINGTON      1982   \n",
      "\n",
      "                         CAND_NAME_y state_y         lname fname  \\\n",
      "2                  FALEOMAVAEGA, ENI      AS  FALEOMAVAEGA   ENI   \n",
      "3              FALEOMAVAEGA, ENI F H      AS  FALEOMAVAEGA   ENI   \n",
      "4  FALEOMAVAEGA, ENI FA'AUA'A HUNKIN      AS  FALEOMAVAEGA   ENI   \n",
      "5    FALEOMAVAEGA, ENI FAAUAA HUNKIN      AS  FALEOMAVAEGA   ENI   \n",
      "6                    SUNIA, FOFO I F      AS         SUNIA  FOFO   \n",
      "\n",
      "          minitial bioguide_id  thomas_id  NodeID  \n",
      "2              NaN           0      367.0     971  \n",
      "3              F H           0      367.0     971  \n",
      "4  FA'AUA'A HUNKIN           0      367.0     971  \n",
      "5    FAAUAA HUNKIN           0      367.0     971  \n",
      "6              I F           0     1126.0    1776  \n"
     ]
    }
   ],
   "source": [
    "filePath = \"../processed-data/candidate_node_mapping_manual.csv\"\n",
    "mapping = pd.read_csv(filePath, index_col=False)\n",
    "\n",
    "filePath = \"../data/financials/candidate_master/\"\n",
    "candFile = filePath + str(CAM_YEAR) + \".txt\"\n",
    "\n",
    "cand = pd.read_csv(candFile, sep='|', index_col=False, \n",
    "                 names=['CAND_ID',\n",
    "                 'CAND_NAME',\n",
    "                 'CAND_PTY_AFFILIATION',\n",
    "                 'CAND_ELECTION_YR',\n",
    "                 'CAND_OFFICE_ST',\n",
    "                 'state',\n",
    "                 'CAND_OFFICE',\n",
    "                 'CAND_OFFICE_DISTRICT',\n",
    "                 'CAND_ICI',\n",
    "                 'CAND_STATUS',\n",
    "                 'CAND_PCC',\n",
    "                 'CAND_ST1',\n",
    "                 'CAND_ST2',\n",
    "                 'CAND_CITY',\n",
    "                 'CAND_ST'])\n",
    "cand = cand[['CAND_ID','CAND_NAME', 'CAND_PTY_AFFILIATION', \n",
    "             'CAND_ELECTION_YR','CAND_OFFICE_ST','state','CAND_OFFICE','CAND_ST2']]\n",
    "\n",
    "cand['CAM_YEAR'] = CAM_YEAR\n",
    "\n",
    "c = pd.merge(cand, mapping, on='CAND_ID', how='left')\n",
    "\n",
    "c[['NodeID']] = c[['NodeID']].apply(pd.to_numeric, errors='coerce').fillna(-1).astype(np.int64)\n",
    "   \n",
    "## remove entries where Nid = 0, meaning unsuccessful candidates\n",
    "c = c[c.fname != '']\n",
    "c = c[c.NodeID != -1]\n",
    "\n",
    "\n",
    "print c.head()"
   ]
  },
  {
   "cell_type": "code",
   "execution_count": null,
   "metadata": {},
   "outputs": [],
   "source": []
  }
 ],
 "metadata": {
  "kernelspec": {
   "display_name": "Python 2",
   "language": "python",
   "name": "python2"
  },
  "language_info": {
   "codemirror_mode": {
    "name": "ipython",
    "version": 2
   },
   "file_extension": ".py",
   "mimetype": "text/x-python",
   "name": "python",
   "nbconvert_exporter": "python",
   "pygments_lexer": "ipython2",
   "version": "2.7.10"
  }
 },
 "nbformat": 4,
 "nbformat_minor": 2
}
