{
 "cells": [
  {
   "cell_type": "code",
   "execution_count": 31,
   "metadata": {},
   "outputs": [],
   "source": [
    "import snap\n",
    "import numpy as np\n",
    "import pandas as pd\n",
    "from itertools import permutations\n",
    "from matplotlib import pyplot as plt\n",
    "import random\n",
    "import glob\n",
    "\n",
    "\n",
    "## This looks at one batch of data and describes the networks per batch\n",
    "\n",
    "#CAM_YEAR = 2000\n",
    "## we need to translate from congress term to year\n",
    "#term = 107 ## corresponding to 2001-2002 years\n",
    "\n",
    "CAM_YEAR = 1994\n",
    "term = 104 #'95-'96"
   ]
  },
  {
   "cell_type": "code",
   "execution_count": 32,
   "metadata": {},
   "outputs": [
    {
     "name": "stdout",
     "output_type": "stream",
     "text": [
      "../data/financials/contributions_to_candidates/1994.txt\n"
     ]
    }
   ],
   "source": [
    "## load contribution to candidates\n",
    "filePath = \"../data/financials/contributions_to_candidates/\"\n",
    "allFiles = filePath + str(CAM_YEAR) + \".txt\"\n",
    "\n",
    "print allFiles\n",
    "\n",
    "result = pd.read_table(allFiles, sep='|', index_col=False, low_memory=False, \n",
    "                 names=[\n",
    "                 'CMTE_ID'\n",
    "                 ,'AMNDT_IND'\n",
    "                 ,'RPT_TP'\n",
    "                 ,'TRANSACTION_PGI'\n",
    "                 ,'IMAGE_NUM'\n",
    "                 ,'TRANSACTION_TP'\n",
    "                 ,'ENTITY_TP'\n",
    "                 ,'NAME'\n",
    "                 ,'CITY'\n",
    "                 ,'STATE'\n",
    "                 ,'ZIP_CODE'\n",
    "                 ,'EMPLOYER'\n",
    "                 ,'OCCUPATION'\n",
    "                 ,'TRANSACTION_DT'\n",
    "                 ,'TRANSACTION_AMT'\n",
    "                 ,'OTHER_ID'\n",
    "                 ,'CAND_ID'\n",
    "                 ,'TRAN_ID'\n",
    "                 ,'FILE_NUM'\n",
    "                 ,'MEMO_CD'\n",
    "                 ,'MEMO_TEXT'\n",
    "                 ,'SUB_ID'\n",
    "                 ])\n"
   ]
  },
  {
   "cell_type": "code",
   "execution_count": 33,
   "metadata": {},
   "outputs": [
    {
     "name": "stdout",
     "output_type": "stream",
     "text": [
      "     CMTE_ID  TRANSACTION_DT  TRANSACTION_AMT    CAND_ID  Freq  \\\n",
      "0  C00000026       1021994.0             1000  H4AZ05021     1   \n",
      "1  C00000026       1041993.0              339  H2NJ09016     1   \n",
      "2  C00000026       1041994.0             1000  S2NJ00080     1   \n",
      "3  C00000026       1081993.0              150  H6MI12017     1   \n",
      "4  C00000026       1111993.0             3937  H2NJ09016     1   \n",
      "\n",
      "   ContributionYear  ComNodeId  \n",
      "0              1994          0  \n",
      "1              1993          0  \n",
      "2              1994          0  \n",
      "3              1993          0  \n",
      "4              1993          0  \n"
     ]
    }
   ],
   "source": [
    "## process one batch of contribution data\n",
    "\n",
    "result = result[['CMTE_ID','TRANSACTION_DT', 'TRANSACTION_AMT', 'CAND_ID']]\n",
    "#result = result[['CMTE_ID','CAND_ID']]\n",
    "result = result.groupby(['CMTE_ID','TRANSACTION_DT', 'TRANSACTION_AMT', 'CAND_ID']).size().reset_index(name='Freq')\n",
    "## remove the case where committees received money from candidates\n",
    "result = result[result.TRANSACTION_AMT >= 0]\n",
    "\n",
    "result['ContributionYear'] = (result['TRANSACTION_DT'] % 10000).apply(pd.to_numeric, errors='coerce').fillna(0).astype(np.int64)\n",
    "##remove the case where years are invalid\n",
    "result = result[result.ContributionYear > 0]\n",
    "\n",
    "\n",
    "result[\"ComNodeId\"] = result.groupby(['CMTE_ID']).ngroup() ## NOTE: ComNodeID is generated on the fly; fine because we care about one-node projection onto candidate nodes\n",
    "\n",
    "print result.head()"
   ]
  },
  {
   "cell_type": "code",
   "execution_count": 34,
   "metadata": {},
   "outputs": [
    {
     "name": "stdout",
     "output_type": "stream",
     "text": [
      "     CAND_ID                   CAND_NAME state      lname   fname  \\\n",
      "0  H4LA05221          ABRAHAM, RALPH LEE    LA    ABRAHAM   RALPH   \n",
      "1  H4LA05221  ABRAHAM, RALPH LEE DR. JR.    LA    ABRAHAM   RALPH   \n",
      "2  H4NC12100         ADAMS, ALMA SHEALEY    NC      ADAMS    ALMA   \n",
      "3  H6AL04098            ADERHOLT, ROBERT    AL   ADERHOLT  ROBERT   \n",
      "4  H6AL04098          ADERHOLT, ROBERT B    AL   ADERHOLT  ROBERT   \n",
      "5  H6AL04098         ADERHOLT, ROBERT B.    AL   ADERHOLT  ROBERT   \n",
      "6  H6AL04098    ADERHOLT, ROBERT B. REP.    AL   ADERHOLT  ROBERT   \n",
      "7  H6AL04098      ADERHOLT, ROBERT BROWN    AL   ADERHOLT  ROBERT   \n",
      "8  H2CA31125               AGUILAR, PETE    CA    AGUILAR    PETE   \n",
      "9  S2TN00058            ALEXANDER, LAMAR    TN  ALEXANDER   LAMAR   \n",
      "\n",
      "      minitial bioguide_id  thomas_id  NodeID  \n",
      "0          LEE     A000374        0.0     0.0  \n",
      "1  LEE DR. JR.     A000374        0.0     0.0  \n",
      "2      SHEALEY     A000370     2201.0     1.0  \n",
      "3          NaN     A000055     1460.0     2.0  \n",
      "4            B     A000055     1460.0     2.0  \n",
      "5           B.     A000055     1460.0     2.0  \n",
      "6      B. REP.     A000055     1460.0     2.0  \n",
      "7        BROWN     A000055     1460.0     2.0  \n",
      "8          NaN     A000371        0.0     3.0  \n",
      "9          NaN     A000360     1695.0     4.0  \n"
     ]
    }
   ],
   "source": [
    "## load candidate master to map to nodeIDs\n",
    "filePath = \"../processed-data/candidate_node_mapping_manual.csv\"\n",
    "\n",
    "mapping = pd.read_csv(filePath, index_col=False)\n",
    "\n",
    "print mapping.head(10)"
   ]
  },
  {
   "cell_type": "code",
   "execution_count": 35,
   "metadata": {},
   "outputs": [],
   "source": [
    "# merge dataframes together\n",
    "c = pd.merge(result, mapping, on='CAND_ID', how='left')\n",
    "\n",
    "c = c.fillna('')\n",
    "c[['NodeID','ComNodeId']] = c[['NodeID','ComNodeId']].apply(pd.to_numeric, errors='coerce').fillna(-1).astype(np.int64)\n",
    "    \n",
    "## remove entries where Nid = 0, meaning unsuccessful candidates\n",
    "c = c[c.fname != '']\n",
    "c = c[c.NodeID != -1]"
   ]
  },
  {
   "cell_type": "code",
   "execution_count": 36,
   "metadata": {},
   "outputs": [
    {
     "name": "stdout",
     "output_type": "stream",
     "text": [
      "     CMTE_ID  TRANSACTION_DT  TRANSACTION_AMT    CAND_ID  Freq  \\\n",
      "1  C00000026       1041993.0              339  H2NJ09016     1   \n",
      "2  C00000026       1041994.0             1000  S2NJ00080     1   \n",
      "3  C00000026       1081993.0              150  H6MI12017     1   \n",
      "4  C00000026       1081993.0              150  H6MI12017     1   \n",
      "5  C00000026       1111993.0             3937  H2NJ09016     1   \n",
      "\n",
      "   ContributionYear  ComNodeId             CAND_NAME state       lname  \\\n",
      "1              1993          0  TORRICELLI, ROBERT G    NJ  TORRICELLI   \n",
      "2              1994          0   LAUTENBERG, FRANK R    NJ  LAUTENBERG   \n",
      "3              1993          0       BONIOR, DAVID E    MI      BONIOR   \n",
      "4              1993          0  BONIOR, DAVID EDWARD    MI      BONIOR   \n",
      "5              1993          0  TORRICELLI, ROBERT G    NJ  TORRICELLI   \n",
      "\n",
      "    fname minitial bioguide_id thomas_id  NodeID  \n",
      "1  ROBERT        G           0      1163    1815  \n",
      "2   FRANK        R           0      1381    1298  \n",
      "3   DAVID        E           0       108     676  \n",
      "4   DAVID   EDWARD           0       108     676  \n",
      "5  ROBERT        G           0      1163    1815  \n"
     ]
    }
   ],
   "source": [
    "print c.head(5)"
   ]
  },
  {
   "cell_type": "code",
   "execution_count": 37,
   "metadata": {},
   "outputs": [
    {
     "name": "stdout",
     "output_type": "stream",
     "text": [
      "Committee NodeID Offset is 231726\n"
     ]
    }
   ],
   "source": [
    "offset = 0\n",
    "\n",
    "filePathNode = \"../processed-data/\"\n",
    "f = filePathNode + \"bill_node.csv\"\n",
    "\n",
    "bill = pd.read_csv(f, delimiter= \",\", index_col=False)\n",
    "\n",
    "offset = bill['NId'].apply(pd.to_numeric, errors='coerce').fillna(0).astype(np.int64).max()\n",
    "\n",
    "print \"Committee NodeID Offset is %d\" % (offset + 1)"
   ]
  },
  {
   "cell_type": "code",
   "execution_count": 38,
   "metadata": {},
   "outputs": [
    {
     "name": "stdout",
     "output_type": "stream",
     "text": [
      "     CMTE_ID  TRANSACTION_DT  TRANSACTION_AMT    CAND_ID  Freq  \\\n",
      "1  C00000026       1041993.0              339  H2NJ09016     1   \n",
      "2  C00000026       1041994.0             1000  S2NJ00080     1   \n",
      "3  C00000026       1081993.0              150  H6MI12017     1   \n",
      "4  C00000026       1081993.0              150  H6MI12017     1   \n",
      "5  C00000026       1111993.0             3937  H2NJ09016     1   \n",
      "\n",
      "   ContributionYear  ComNodeId             CAND_NAME state       lname  \\\n",
      "1              1993     231726  TORRICELLI, ROBERT G    NJ  TORRICELLI   \n",
      "2              1994     231726   LAUTENBERG, FRANK R    NJ  LAUTENBERG   \n",
      "3              1993     231726       BONIOR, DAVID E    MI      BONIOR   \n",
      "4              1993     231726  BONIOR, DAVID EDWARD    MI      BONIOR   \n",
      "5              1993     231726  TORRICELLI, ROBERT G    NJ  TORRICELLI   \n",
      "\n",
      "    fname minitial bioguide_id thomas_id  NodeID  \n",
      "1  ROBERT        G           0      1163    1815  \n",
      "2   FRANK        R           0      1381    1298  \n",
      "3   DAVID        E           0       108     676  \n",
      "4   DAVID   EDWARD           0       108     676  \n",
      "5  ROBERT        G           0      1163    1815  \n"
     ]
    }
   ],
   "source": [
    "c['ComNodeId'] = c['ComNodeId'] + offset + 1\n",
    "print(c.head(5))"
   ]
  },
  {
   "cell_type": "markdown",
   "metadata": {},
   "source": [
    "We have now a contribution data for the year we picked, in CAM_YEAR"
   ]
  },
  {
   "cell_type": "code",
   "execution_count": 39,
   "metadata": {},
   "outputs": [
    {
     "name": "stdout",
     "output_type": "stream",
     "text": [
      "(402110, 15)\n"
     ]
    }
   ],
   "source": [
    "print c.shape"
   ]
  },
  {
   "cell_type": "code",
   "execution_count": 40,
   "metadata": {},
   "outputs": [
    {
     "name": "stdout",
     "output_type": "stream",
     "text": [
      "G node count is 4327\n",
      "G edge count is 105484\n"
     ]
    }
   ],
   "source": [
    "## create an undirect graph\n",
    "G = snap.TUNGraph.New()\n",
    "for index, row in c.iterrows():\n",
    "    if G.IsNode(row['NodeID']) is False:\n",
    "        G.AddNode(row['NodeID'])\n",
    "    if G.IsNode(row['ComNodeId']) is False:\n",
    "        G.AddNode(row['ComNodeId'])\n",
    "    if G.IsEdge(row['NodeID'], row['ComNodeId']) is False:\n",
    "        G.AddEdge(row['NodeID'], row['ComNodeId'])\n",
    "\n",
    "print \"G node count is %d\" % (G.GetNodes())\n",
    "print \"G edge count is %d\" % (G.GetEdges())"
   ]
  },
  {
   "cell_type": "markdown",
   "metadata": {},
   "source": [
    "## Describe the Networks"
   ]
  },
  {
   "cell_type": "markdown",
   "metadata": {},
   "source": [
    "joining to the bill data in the immediately following year. E.g., if we are looking to 2000's campaign, contribution record, we need to look at 2002's congress membership and bill co-authorship data, to respect causality"
   ]
  },
  {
   "cell_type": "code",
   "execution_count": 41,
   "metadata": {},
   "outputs": [
    {
     "name": "stdout",
     "output_type": "stream",
     "text": [
      "   SrcNId  DstNId  congress_term date_signed\n",
      "0   10000    1002            100  1987-01-06\n",
      "1   10001     649            101  1989-01-03\n",
      "2   10001      40            101  1989-01-03\n",
      "3   10001     710            101  1989-04-04\n",
      "4   10001     888            101  1989-01-03\n"
     ]
    }
   ],
   "source": [
    "filePathNode = \"../processed-data/\"\n",
    "f = filePathNode + \"legislator_bill_edge_list.csv\"\n",
    "\n",
    "bills = pd.read_csv(f, delimiter= \",\", index_col=False)\n",
    "print bills.head()"
   ]
  },
  {
   "cell_type": "code",
   "execution_count": 42,
   "metadata": {},
   "outputs": [
    {
     "name": "stdout",
     "output_type": "stream",
     "text": [
      "     SrcNId  DstNId  congress_term date_signed\n",
      "165   10004     658            104  1995-01-04\n",
      "166   10004      48            104  1995-01-04\n",
      "167   10004     752            104  1995-01-04\n",
      "168   10004     892            104  1995-01-04\n",
      "169   10004     894            104  1995-01-04\n"
     ]
    }
   ],
   "source": [
    "\n",
    "\n",
    "bills = bills[bills['congress_term'] == term]\n",
    "print(bills.head())"
   ]
  },
  {
   "cell_type": "code",
   "execution_count": 43,
   "metadata": {},
   "outputs": [
    {
     "name": "stdout",
     "output_type": "stream",
     "text": [
      "(402110, 15)\n",
      "(95678, 4)\n",
      "(62576326, 19)\n"
     ]
    }
   ],
   "source": [
    "## Join bill data to campaign contribution data (essentially only include legislators found in the bill data)\n",
    "overall = pd.merge(c, bills, left_on='NodeID', right_on = 'DstNId', how='inner')\n",
    "\n",
    "print(c.shape)\n",
    "print(bills.shape)\n",
    "print(overall.shape)"
   ]
  },
  {
   "cell_type": "code",
   "execution_count": 44,
   "metadata": {},
   "outputs": [
    {
     "name": "stdout",
     "output_type": "stream",
     "text": [
      "     CMTE_ID  TRANSACTION_DT  TRANSACTION_AMT    CAND_ID  Freq  \\\n",
      "0  C00000026       1041993.0              339  H2NJ09016     1   \n",
      "1  C00000026       1041993.0              339  H2NJ09016     1   \n",
      "2  C00000026       1041993.0              339  H2NJ09016     1   \n",
      "3  C00000026       1041993.0              339  H2NJ09016     1   \n",
      "4  C00000026       1041993.0              339  H2NJ09016     1   \n",
      "\n",
      "   ContributionYear  ComNodeId             CAND_NAME state       lname  \\\n",
      "0              1993     231726  TORRICELLI, ROBERT G    NJ  TORRICELLI   \n",
      "1              1993     231726  TORRICELLI, ROBERT G    NJ  TORRICELLI   \n",
      "2              1993     231726  TORRICELLI, ROBERT G    NJ  TORRICELLI   \n",
      "3              1993     231726  TORRICELLI, ROBERT G    NJ  TORRICELLI   \n",
      "4              1993     231726  TORRICELLI, ROBERT G    NJ  TORRICELLI   \n",
      "\n",
      "    fname minitial bioguide_id thomas_id  NodeID  SrcNId  DstNId  \\\n",
      "0  ROBERT        G           0      1163    1815   10080    1815   \n",
      "1  ROBERT        G           0      1163    1815   10099    1815   \n",
      "2  ROBERT        G           0      1163    1815   10460    1815   \n",
      "3  ROBERT        G           0      1163    1815   10536    1815   \n",
      "4  ROBERT        G           0      1163    1815   10555    1815   \n",
      "\n",
      "   congress_term date_signed  \n",
      "0            104  1995-12-12  \n",
      "1            104  1996-04-16  \n",
      "2            104  1996-08-02  \n",
      "3            104  1995-12-21  \n",
      "4            104  1996-01-03  \n"
     ]
    }
   ],
   "source": [
    "print overall.head(5)"
   ]
  },
  {
   "cell_type": "markdown",
   "metadata": {},
   "source": [
    "### Plot Degree Distribution"
   ]
  },
  {
   "cell_type": "code",
   "execution_count": 45,
   "metadata": {},
   "outputs": [
    {
     "name": "stdout",
     "output_type": "stream",
     "text": [
      "G_cand node count is 3903\n",
      "G_cand edge count is 87612\n"
     ]
    }
   ],
   "source": [
    "bill_cand = []\n",
    "for index, row in bills.iterrows():\n",
    "    bill_cand.append(row['DstNId'])\n",
    "bill_cand = list(set(bill_cand)) ##dedup\n",
    "\n",
    "G_cand = snap.TUNGraph.New()\n",
    "for index, row in c.iterrows():\n",
    "    if G_cand.IsNode(row['NodeID']) is False and row['NodeID'] in bill_cand:\n",
    "        G_cand.AddNode(row['NodeID'])\n",
    "    if G_cand.IsNode(row['ComNodeId']) is False and row['NodeID'] in bill_cand:\n",
    "        G_cand.AddNode(row['ComNodeId'])\n",
    "    if G_cand.IsEdge(row['NodeID'], row['ComNodeId']) is False and row['NodeID'] in bill_cand:\n",
    "        G_cand.AddEdge(row['NodeID'], row['ComNodeId'])\n",
    "\n",
    "print \"G_cand node count is %d\" % (G_cand.GetNodes())\n",
    "print \"G_cand edge count is %d\" % (G_cand.GetEdges())"
   ]
  },
  {
   "cell_type": "code",
   "execution_count": 46,
   "metadata": {},
   "outputs": [
    {
     "name": "stdout",
     "output_type": "stream",
     "text": [
      "Campaign network max degree count is 765 for candidates, out of 529 pool\n",
      "Campaign network max degree count is 435 for committees, out of 3374 pool\n"
     ]
    }
   ],
   "source": [
    "# Find clique size\n",
    "\n",
    "cand = []\n",
    "com = []\n",
    "#b = []\n",
    "for NI in G_cand.Nodes():\n",
    "    if NI.GetId() < 10000:\n",
    "        cand.append(NI.GetOutDeg())\n",
    "    else:\n",
    "        com.append(NI.GetOutDeg())\n",
    "        \n",
    "print \"Campaign network max degree count is %d for candidates, out of %d pool\" % (max(cand), len(cand))\n",
    "print \"Campaign network max degree count is %d for committees, out of %d pool\" % (max(com), len(com))\n",
    "#print \"Campaign network max clique size is %d for bills, out of %d pool\" % (max(b), len(b)) ## this is with joining to the bill data"
   ]
  },
  {
   "cell_type": "code",
   "execution_count": 47,
   "metadata": {},
   "outputs": [
    {
     "data": {
      "image/png": "[encoded data removed]",
      "text/plain": [
       "<Figure size 432x288 with 1 Axes>"
      ]
     },
     "metadata": {
      "needs_background": "light"
     },
     "output_type": "display_data"
    }
   ],
   "source": [
    "plt.hist(cand, bins=range(min(cand), max(cand)+1), color = \"skyblue\", ec=\"skyblue\", histtype = 'step', label=\"Candidates\")\n",
    "plt.hist(com, bins=range(min(com), max(com)+1), color=\"red\", ec=\"red\", histtype = 'step', label= 'Campaign Comm')\n",
    "plt.xscale(\"log\")\n",
    "plt.yscale(\"log\")\n",
    "plt.xlabel('Degree')\n",
    "plt.ylabel('Count')\n",
    "plt.title('Degree Distribution')\n",
    "plt.legend()\n",
    "plt.show()\n",
    "## red shows power law, similar to paper collaboration network in HW1. Makes sense, as even within one year, people collaborate a lot tgt\n",
    "## blue is closer to small world. "
   ]
  },
  {
   "cell_type": "code",
   "execution_count": 48,
   "metadata": {},
   "outputs": [
    {
     "data": {
      "image/png": "[encoded data removed]",
      "text/plain": [
       "<Figure size 432x288 with 1 Axes>"
      ]
     },
     "metadata": {
      "needs_background": "light"
     },
     "output_type": "display_data"
    }
   ],
   "source": [
    "plt.figure()\n",
    "plt.hist(cand, bins=range(min(cand), max(cand)+1), color = \"skyblue\", ec=\"skyblue\", histtype = 'step', label=\"Candidates\")\n",
    "plt.xlabel('Degree')\n",
    "plt.ylabel('Count')\n",
    "plt.title('Degree Distribution for Legislators')\n",
    "plt.legend()\n",
    "plt.show()"
   ]
  },
  {
   "cell_type": "code",
   "execution_count": 49,
   "metadata": {},
   "outputs": [
    {
     "name": "stdout",
     "output_type": "stream",
     "text": [
      "Compressed Graph Node count total: 528\n",
      "Compressed Edge count total: 136013\n",
      "Campaign Network Clustering coefficient: 0.982753\n"
     ]
    }
   ],
   "source": [
    "## Fold G_cand to create a one-node projection onto candidate nodes\n",
    "\n",
    "H = snap.TUNGraph.New()\n",
    "\n",
    "for i in G_cand.Nodes():\n",
    "    for j in G_cand.Nodes():\n",
    "        if (i.GetId() < j.GetId() and j.GetId() < 10000): #10000 is the upper limit for candidate nodes\n",
    "            NbrV = snap.TIntV()\n",
    "            Num = snap.GetLen2Paths(G_cand, i.GetId(), j.GetId(), NbrV)\n",
    "            if Num > 0:\n",
    "                if H.IsNode(i.GetId()) == False:\n",
    "                    H.AddNode(i.GetId())\n",
    "                if H.IsNode(j.GetId()) == False:\n",
    "                    H.AddNode(j.GetId())\n",
    "                if H.IsEdge(i.GetId(), j.GetId()) == False:\n",
    "                    H.AddEdge(i.GetId(),j.GetId())\n",
    "\n",
    "print \"Compressed Graph Node count total: %d\" % (H.GetNodes())\n",
    "\n",
    "print \"Compressed Edge count total: %d\" % (H.GetEdges())\n",
    "\n",
    "GraphClustCoeff = snap.GetClustCf(H, -1)\n",
    "print \"Campaign Network Clustering coefficient: %f\" % GraphClustCoeff"
   ]
  },
  {
   "cell_type": "code",
   "execution_count": 50,
   "metadata": {},
   "outputs": [
    {
     "name": "stdout",
     "output_type": "stream",
     "text": [
      "528\n",
      "136013\n"
     ]
    }
   ],
   "source": [
    "MxWcc = snap.GetMxWcc(H)\n",
    "print MxWcc.GetNodes()\n",
    "print MxWcc.GetEdges()"
   ]
  },
  {
   "cell_type": "code",
   "execution_count": 51,
   "metadata": {},
   "outputs": [
    {
     "name": "stdout",
     "output_type": "stream",
     "text": [
      "Campaign Network Max Strongly Connected Component Node Count: 528\n",
      "Campaign Network Max Strongly Connected Component Edge Count: 136013\n"
     ]
    }
   ],
   "source": [
    "MxScc = snap.GetMxScc(H)\n",
    "print \"Campaign Network Max Strongly Connected Component Node Count: %d\" % MxScc.GetNodes()\n",
    "print \"Campaign Network Max Strongly Connected Component Edge Count: %d\" % MxScc.GetEdges()\n"
   ]
  },
  {
   "cell_type": "markdown",
   "metadata": {},
   "source": [
    "## Looking at bills data"
   ]
  },
  {
   "cell_type": "code",
   "execution_count": 52,
   "metadata": {},
   "outputs": [
    {
     "name": "stdout",
     "output_type": "stream",
     "text": [
      "     SrcNId  DstNId  congress_term date_signed\n",
      "165   10004     658            104  1995-01-04\n",
      "166   10004      48            104  1995-01-04\n",
      "167   10004     752            104  1995-01-04\n",
      "168   10004     892            104  1995-01-04\n",
      "169   10004     894            104  1995-01-04\n"
     ]
    }
   ],
   "source": [
    "print bills.head()"
   ]
  },
  {
   "cell_type": "code",
   "execution_count": 53,
   "metadata": {},
   "outputs": [
    {
     "name": "stdout",
     "output_type": "stream",
     "text": [
      "...Looking at Bill - Legislator Graph \n",
      "G_bill node count is 8537\n",
      "G_bill edge count is 95678\n",
      "Bill network max node degree is 508 for legislators, out of 546 pool\n",
      "Bill network max node degree is 346 for bills, out of 7991 pool\n",
      "One-node Projected Graph Node count total: 546\n",
      "One-node Projected Edge count total: 103722\n",
      "Bill Network Clustering coefficient: 0.998163\n",
      "Bill Network Max Weakly Connected Component Node Count: 546\n",
      "Bill Network Max Weakly Connected Component Edge Count: 103722\n",
      "Bill Network Max Strongly Connected Component Node Count: 546\n",
      "Bill Network Max Strongly Connected Component Edge Count: 103722\n"
     ]
    }
   ],
   "source": [
    "print \"...Looking at Bill - Legislator Graph \"\n",
    "## NOW, create one-node projection onto legislator graphs\n",
    "\n",
    "G_bill = snap.TUNGraph.New()\n",
    "for index, row in bills.iterrows():\n",
    "    if G_bill.IsNode(row['SrcNId']) is False:\n",
    "        G_bill.AddNode(row['SrcNId'])\n",
    "    if G_bill.IsNode(row['DstNId']) is False:\n",
    "        G_bill.AddNode(row['DstNId'])\n",
    "    if G_bill.IsEdge(row['SrcNId'], row['DstNId']) is False:\n",
    "        G_bill.AddEdge(row['SrcNId'], row['DstNId'])\n",
    "\n",
    "print \"G_bill node count is %d\" % (G_bill.GetNodes())\n",
    "print \"G_bill edge count is %d\" % (G_bill.GetEdges())\n",
    "\n",
    "## Find clique size\n",
    "cand = []\n",
    "com = []\n",
    "#b = []\n",
    "for NI in G_bill.Nodes():\n",
    "    if NI.GetId() < 10000:\n",
    "        cand.append(NI.GetOutDeg())\n",
    "    else:\n",
    "        com.append(NI.GetOutDeg())\n",
    "        \n",
    "print \"Bill network max node degree is %d for legislators, out of %d pool\" % (max(cand), len(cand))\n",
    "print \"Bill network max node degree is %d for bills, out of %d pool\" % (max(com), len(com))\n",
    "\n",
    "## Fold G_cand to create a one-node projection onto candidate nodes\n",
    "\n",
    "H_bill = snap.TUNGraph.New()\n",
    "\n",
    "for i in G_bill.Nodes():\n",
    "    for j in G_bill.Nodes():\n",
    "        if (i.GetId() < j.GetId() and j.GetId() < 10000): #10000 is the upper limit for candidate nodes\n",
    "            NbrV = snap.TIntV()\n",
    "            Num = snap.GetCmnNbrs(G_bill,i.GetId(),j.GetId())\n",
    "            #Num = snap.GetLen2Paths(G_bill, i.GetId(), j.GetId(), NbrV)\n",
    "            if Num != 0:\n",
    "                if H_bill.IsNode(i.GetId()) == False:\n",
    "                    H_bill.AddNode(i.GetId())\n",
    "                if H_bill.IsNode(j.GetId()) == False:\n",
    "                    H_bill.AddNode(j.GetId())\n",
    "                if H_bill.IsEdge(i.GetId(), j.GetId()) == False:\n",
    "                    H_bill.AddEdge(i.GetId(),j.GetId())\n",
    "\n",
    "print \"One-node Projected Graph Node count total: %d\" % (H_bill.GetNodes())\n",
    "\n",
    "print \"One-node Projected Edge count total: %d\" % (H_bill.GetEdges())\n",
    "\n",
    "GraphClustCoeff = snap.GetClustCf(H_bill, -1)\n",
    "print \"Bill Network Clustering coefficient: %f\" % GraphClustCoeff\n",
    "\n",
    "MxWcc = snap.GetMxWcc(H_bill)\n",
    "print \"Bill Network Max Weakly Connected Component Node Count: %d\" % MxWcc.GetNodes()\n",
    "print \"Bill Network Max Weakly Connected Component Edge Count: %d\" % MxWcc.GetEdges()\n",
    "\n",
    "MxScc = snap.GetMxScc(H_bill)\n",
    "print \"Bill Network Max Strongly Connected Component Node Count: %d\" % MxScc.GetNodes()\n",
    "print \"Bill Network Max Strongly Connected Component Edge Count: %d\" % MxScc.GetEdges()\n"
   ]
  },
  {
   "cell_type": "code",
   "execution_count": 30,
   "metadata": {},
   "outputs": [
    {
     "data": {
      "image/png": "[encoded data removed]",
      "text/plain": [
       "<Figure size 432x288 with 1 Axes>"
      ]
     },
     "metadata": {
      "needs_background": "light"
     },
     "output_type": "display_data"
    }
   ],
   "source": [
    "plt.hist(cand, bins=range(min(cand), max(cand)+1), color = \"skyblue\", ec=\"skyblue\", histtype = 'step', label=\"Legislators\")\n",
    "plt.hist(com, bins=range(min(com), max(com)+1), color=\"red\", ec=\"red\", histtype = 'step', label= 'Bills')\n",
    "plt.xscale(\"log\")\n",
    "plt.yscale(\"log\")\n",
    "plt.xlabel('Degree')\n",
    "plt.ylabel('Count')\n",
    "plt.title('Degree Distribution for Bill Subgraph')\n",
    "plt.legend()\n",
    "plt.show()"
   ]
  },
  {
   "cell_type": "code",
   "execution_count": 27,
   "metadata": {},
   "outputs": [
    {
     "data": {
      "image/png": "[encoded data removed]",
      "text/plain": [
       "<Figure size 432x288 with 1 Axes>"
      ]
     },
     "metadata": {
      "needs_background": "light"
     },
     "output_type": "display_data"
    }
   ],
   "source": [
    "plt.hist(cand, bins=range(min(cand), max(cand)+1), color = \"skyblue\", ec=\"skyblue\", histtype = 'step', label=\"Legislators\")\n",
    "plt.xlabel('Degree')\n",
    "plt.ylabel('Count')\n",
    "plt.title('Legislator Degree Distribution')\n",
    "plt.legend()\n",
    "plt.show()"
   ]
  },
  {
   "cell_type": "code",
   "execution_count": null,
   "metadata": {},
   "outputs": [],
   "source": []
  }
 ],
 "metadata": {
  "kernelspec": {
   "display_name": "Python 2",
   "language": "python",
   "name": "python2"
  },
  "language_info": {
   "codemirror_mode": {
    "name": "ipython",
    "version": 2
   },
   "file_extension": ".py",
   "mimetype": "text/x-python",
   "name": "python",
   "nbconvert_exporter": "python",
   "pygments_lexer": "ipython2",
   "version": "2.7.10"
  }
 },
 "nbformat": 4,
 "nbformat_minor": 2
}
